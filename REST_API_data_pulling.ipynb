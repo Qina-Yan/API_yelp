{
 "cells": [
  {
   "cell_type": "markdown",
   "metadata": {
    "id": "cvtjwf_bLzYb"
   },
   "source": [
    "## A lot of websites support REST API to query data, and in your daily job you will use it very often. RESTful API = REpresentational State Transfer. \n",
    "\n",
    "Key points of REST API: \n",
    "\n",
    "1. Client-Server\n",
    "2. Stateless\n",
    "3. Cacheable\n",
    "4. Uniform-interface\n",
    "5. Layered System\n",
    "6. Code on demond\n",
    "\n",
    "## REST API is a preferred way to pull data from websites using crawlers\n",
    "1. You can get structured data directly, and easily parse them into dataframe\n",
    "2. It's much more stable than a web crawler, website can update front page frequently but will always keep the API query the same syntax/format, or have compatibility support -- a lot of apps depend on the reliability of their API service\n",
    "3. It's more cost effective to both you and the web server\n",
    "4. It allows to query some data unseen from web page e.g. stock price at tick level"
   ]
  },
  {
   "cell_type": "markdown",
   "metadata": {
    "id": "5B7GUQrPLzYc"
   },
   "source": [
    "## REST API consist of: a base URL + standard HTTP method (Get, Put, Post, Delete) + a media type (mostly JSON or XML)"
   ]
  },
  {
   "cell_type": "markdown",
   "metadata": {
    "id": "swcyTjINLzYc"
   },
   "source": [
    "In python, we can use \n",
    "1. requests to send/receive HTTP request from client side\n",
    "2. json to serialize and deserialize data \n",
    "3. flask to build up web server to response to HTTP request\n",
    "\n",
    "Let's dive in with an example from Yelp.\n",
    "\n",
    "Go to https://www.yelp.com/developers/documentation/v3/business_search (you may need to sign up Yelp developer's account to get access to these documentations)\n",
    "Read through this page, and understand\n",
    "1. What HTTP method should be used?\n",
    "2. What is the basic endpoint?\n",
    "3. What is the format of the response body?\n",
    "4. Can you figure out how to search for restaurants within 10 miles of zip code 94583?\n",
    "\n",
    "Now go to https://www.yelp.com/developers/v3/manage_app  to add an app to your developer's account, get your client ID and app key, which will be used later. The default daily request limit is 5000."
   ]
  },
  {
   "cell_type": "code",
   "execution_count": 1,
   "metadata": {
    "colab": {
     "base_uri": "https://localhost:8080/",
     "height": 34
    },
    "executionInfo": {
     "elapsed": 391,
     "status": "ok",
     "timestamp": 1602898709394,
     "user": {
      "displayName": "pp zz",
      "photoUrl": "",
      "userId": "14727403277373281171"
     },
     "user_tz": 420
    },
    "id": "IvMdm1qXLzYd",
    "outputId": "993c4087-8577-4f4c-a52e-d71d1d00aa5a"
   },
   "outputs": [
    {
     "name": "stdout",
     "output_type": "stream",
     "text": [
      "<Response [200]>\n"
     ]
    }
   ],
   "source": [
    "#pip install requests if you don't already have it\n",
    "import requests\n",
    "#test if your request is working fine, you should be getting a status code of 200 from below command\n",
    "response = requests.get('https://api.github.com')\n",
    "print(response)"
   ]
  },
  {
   "cell_type": "markdown",
   "metadata": {
    "id": "q5PxKng9LzYh"
   },
   "source": [
    "Some common HTTP response code:\n",
    "200: Everything OK\n",
    "400: Bad request, check your request syntax\n",
    "401/403: Unathorized, you may need permission\n",
    "404: Page not found, you know it\n",
    "405: Bad method\n",
    "500: Internal Server Error, check your server code\n",
    "\n",
    "A HTTP request example:\n",
    "\n",
    "POST /cgi-bin/process.cgi HTTP/1.1\n",
    "User-Agent: Mozilla/4.0 (compatible; MSIE5.01; Windows NT)\n",
    "Host: www.tutorialspoint.com\n",
    "Content-Type: application/x-www-form-urlencoded\n",
    "Content-Length: length\n",
    "Accept-Language: en-us\n",
    "Accept-Encoding: gzip, deflate\n",
    "Connection: Keep-Alive\n",
    "\n",
    "licenseID=string&content=string&/paramsXML=string"
   ]
  },
  {
   "cell_type": "code",
   "execution_count": 9,
   "metadata": {
    "id": "0bnFbLX-LzYi"
   },
   "outputs": [],
   "source": [
    "#let's try to send GET request to Yelp, replace the API_Key with yours\n",
    "API_Key = 'USE YOUR keys'\n",
    "url = 'https://api.yelp.com/v3/businesses/search'\n",
    "#'location':'22182',\n",
    "params = {\n",
    "    'term':'Restaurants',\n",
    "    'location':'94555',\n",
    "    'radius':'16000',\n",
    "    'limit':'4'\n",
    "}\n",
    "headers = {\n",
    "    'Authorization': 'Bearer %s' % API_Key,\n",
    "    'Content-Type':'application/json'\n",
    "}\n",
    "#the browser needs full url to work, requests helps you to automatically format those urls\n",
    "#e.g. https://www.yelp.com/search?find_desc=Restaurants&find_loc=San+Ramon%2C+CA&ns=1\n",
    "response = requests.get(url, params=params, headers=headers, json=None) \n",
    "#GET request usually don't send data to server, so json=None. If you need to POST data, you can use json={'key':'value'}"
   ]
  },
  {
   "cell_type": "code",
   "execution_count": 10,
   "metadata": {
    "colab": {
     "base_uri": "https://localhost:8080/",
     "height": 34
    },
    "executionInfo": {
     "elapsed": 342,
     "status": "ok",
     "timestamp": 1602899027531,
     "user": {
      "displayName": "pp zz",
      "photoUrl": "",
      "userId": "14727403277373281171"
     },
     "user_tz": 420
    },
    "id": "ax49UBI-LzYl",
    "outputId": "0ea6ab53-7afc-42f8-c7f5-27c61b1a5c88"
   },
   "outputs": [
    {
     "name": "stdout",
     "output_type": "stream",
     "text": [
      "<Response [200]>\n"
     ]
    }
   ],
   "source": [
    "print(response)"
   ]
  },
  {
   "cell_type": "code",
   "execution_count": 13,
   "metadata": {
    "colab": {
     "base_uri": "https://localhost:8080/",
     "height": 54
    },
    "executionInfo": {
     "elapsed": 333,
     "status": "ok",
     "timestamp": 1602899029248,
     "user": {
      "displayName": "pp zz",
      "photoUrl": "",
      "userId": "14727403277373281171"
     },
     "user_tz": 420
    },
    "id": "eMsku04ALzYo",
    "outputId": "dfafe845-abeb-4c45-d7ed-f5ae87c16ae2"
   },
   "outputs": [
    {
     "data": {
      "text/plain": [
       "b'{\"businesses\": [{\"id\": \"G_qFJBwdgRqjjrapidHPwg\", \"alias\": \"fong-kee-clay-pot-union-city\", \"name\": \"Fong Kee Clay Pot\", \"image_url\": \"https://s3-media3.fl.yelpcdn.com/bphoto/n-llcDFpxpwOiXEMGLi6WA/o.jpg\", \"is_closed\": false, \"url\": \"https://www.yelp.com/biz/fong-kee-clay-pot-union-city?adjust_creative=Eoyi_YSkAfM5aeQla0x-3A&utm_campaign=yelp_api_v3&utm_medium=api_v3_business_search&utm_source=Eoyi_YSkAfM5aeQla0x-3A\", \"review_count\": 5, \"categories\": [{\"alias\": \"cantonese\", \"title\": \"Cantonese\"}], \"rating\": 5.0, \"coordinates\": {\"latitude\": 37.58947, \"longitude\": -122.02283}, \"transactions\": [], \"location\": {\"address1\": \"1773 Decoto Rd\", \"address2\": null, \"address3\": \"\", \"city\": \"Union City\", \"zip_code\": \"94587\", \"country\": \"US\", \"state\": \"CA\", \"display_address\": [\"1773 Decoto Rd\", \"Union City, CA 94587\"]}, \"phone\": \"+15109529093\", \"display_phone\": \"(510) 952-9093\", \"distance\": 6484.68764409451}, {\"id\": \"purj1aiUzDi0I__qLOaNRg\", \"alias\": \"pan-fried-dumplings-newark\", \"name\": \"Pan Fried Dumplings\", \"image_url\": \"https://s3-media1.fl.yelpcdn.com/bphoto/3PuNE83LHi9RgTUeN3z3dQ/o.jpg\", \"is_closed\": false, \"url\": \"https://www.yelp.com/biz/pan-fried-dumplings-newark?adjust_creative=Eoyi_YSkAfM5aeQla0x-3A&utm_campaign=yelp_api_v3&utm_medium=api_v3_business_search&utm_source=Eoyi_YSkAfM5aeQla0x-3A\", \"review_count\": 467, \"categories\": [{\"alias\": \"dimsum\", \"title\": \"Dim Sum\"}, {\"alias\": \"noodles\", \"title\": \"Noodles\"}], \"rating\": 4.5, \"coordinates\": {\"latitude\": 37.548733, \"longitude\": -122.0493413}, \"transactions\": [\"restaurant_reservation\"], \"price\": \"$$\", \"location\": {\"address1\": \"6180 Jarvis Ave\", \"address2\": \"Ste U\", \"address3\": \"\", \"city\": \"Newark\", \"zip_code\": \"94560\", \"country\": \"US\", \"state\": \"CA\", \"display_address\": [\"6180 Jarvis Ave\", \"Ste U\", \"Newark, CA 94560\"]}, \"phone\": \"+15108941243\", \"display_phone\": \"(510) 894-1243\", \"distance\": 2608.3045065147344}, {\"id\": \"HUXRBAnq-zruEgE2RFw9sQ\", \"alias\": \"ambrose-butchery-fremont\", \"name\": \"Ambrose Butchery\", \"image_url\": \"https://s3-media2.fl.yelpcdn.com/bphoto/5xZxHG-EfJ6HyL1FNn6gUQ/o.jpg\", \"is_closed\": false, \"url\": \"https://www.yelp.com/biz/ambrose-butchery-fremont?adjust_creative=Eoyi_YSkAfM5aeQla0x-3A&utm_campaign=yelp_api_v3&utm_medium=api_v3_business_search&utm_source=Eoyi_YSkAfM5aeQla0x-3A\", \"review_count\": 201, \"categories\": [{\"alias\": \"newamerican\", \"title\": \"American (New)\"}, {\"alias\": \"butcher\", \"title\": \"Butcher\"}], \"rating\": 4.5, \"coordinates\": {\"latitude\": 37.5764345126062, \"longitude\": -121.97724}, \"transactions\": [\"delivery\"], \"price\": \"$$\", \"location\": {\"address1\": \"37683 Niles Blvd\", \"address2\": \"\", \"address3\": null, \"city\": \"Fremont\", \"zip_code\": \"94536\", \"country\": \"US\", \"state\": \"CA\", \"display_address\": [\"37683 Niles Blvd\", \"Fremont, CA 94536\"]}, \"phone\": \"+15105092677\", \"display_phone\": \"(510) 509-2677\", \"distance\": 9359.532829994985}, {\"id\": \"iKJ8LTC61-QsLTLi1Cte1w\", \"alias\": \"farmhouse-kitchen-thai-cuisine-menlo-park-2\", \"name\": \"Farmhouse Kitchen Thai Cuisine\", \"image_url\": \"https://s3-media3.fl.yelpcdn.com/bphoto/_vDlY-jousJqacyvEniesw/o.jpg\", \"is_closed\": false, \"url\": \"https://www.yelp.com/biz/farmhouse-kitchen-thai-cuisine-menlo-park-2?adjust_creative=Eoyi_YSkAfM5aeQla0x-3A&utm_campaign=yelp_api_v3&utm_medium=api_v3_business_search&utm_source=Eoyi_YSkAfM5aeQla0x-3A\", \"review_count\": 799, \"categories\": [{\"alias\": \"thai\", \"title\": \"Thai\"}, {\"alias\": \"cocktailbars\", \"title\": \"Cocktail Bars\"}, {\"alias\": \"beer_and_wine\", \"title\": \"Beer, Wine & Spirits\"}], \"rating\": 4.0, \"coordinates\": {\"latitude\": 37.45491677842326, \"longitude\": -122.18342154110819}, \"transactions\": [\"restaurant_reservation\"], \"price\": \"$$\", \"location\": {\"address1\": \"1165 Merrill St\", \"address2\": \"\", \"address3\": null, \"city\": \"Menlo Park\", \"zip_code\": \"94025\", \"country\": \"US\", \"state\": \"CA\", \"display_address\": [\"1165 Merrill St\", \"Menlo Park, CA 94025\"]}, \"phone\": \"+16506657935\", \"display_phone\": \"(650) 665-7935\", \"distance\": 14174.951534593589}], \"total\": 1100, \"region\": {\"center\": {\"longitude\": -122.07870483398438, \"latitude\": 37.55160980561088}}}'"
      ]
     },
     "execution_count": 13,
     "metadata": {},
     "output_type": "execute_result"
    }
   ],
   "source": [
    "# to view the contents of the response\n",
    "response.content"
   ]
  },
  {
   "cell_type": "code",
   "execution_count": 14,
   "metadata": {
    "colab": {
     "base_uri": "https://localhost:8080/",
     "height": 122
    },
    "executionInfo": {
     "elapsed": 364,
     "status": "ok",
     "timestamp": 1602899129790,
     "user": {
      "displayName": "pp zz",
      "photoUrl": "",
      "userId": "14727403277373281171"
     },
     "user_tz": 420
    },
    "id": "1iZ_vqj5LzYr",
    "outputId": "fcc987b3-d255-4acd-bd13-1d58e9d7eb2e"
   },
   "outputs": [
    {
     "name": "stdout",
     "output_type": "stream",
     "text": [
      "cookies is <RequestsCookieJar[]>\n",
      "\n",
      "headers is {'Connection': 'keep-alive', 'content-type': 'application/json', 'x-routing-service': 'routing-main--uswest2-b56d7b5c4-4kz4r; site=public_api_v3', 'ratelimit-dailylimit': '5000', 'ratelimit-remaining': '4999', 'ratelimit-resettime': '2022-08-04T00:00:00+00:00', 'server': 'envoy', 'x-b3-sampled': '0', 'x-zipkin-id': '4f777cc2f0d96b75', 'x-cloudmap': 'routing_uswest2', 'x-mode': 'ro', 'x-proxied': '10-69-184-36-uswest2bprod', 'content-encoding': 'gzip', 'x-extlb': '10-69-184-36-uswest2bprod', 'cache-control': 'max-age=0, no-store, private, no-transform', 'Accept-Ranges': 'bytes', 'Date': 'Wed, 03 Aug 2022 07:03:12 GMT', 'Via': '1.1 varnish', 'X-Served-By': 'cache-pao17461-PAO', 'X-Cache': 'MISS', 'X-Cache-Hits': '0', 'Vary': 'Accept-Encoding', 'transfer-encoding': 'chunked'}\n",
      "\n",
      "response body is {\"businesses\": [{\"id\": \"G_qFJBwdgRqjjrapidHPwg\", \"alias\": \"fong-kee-clay-pot-union-city\", \"name\": \"Fong Kee Clay Pot\", \"image_url\": \"https://s3-media3.fl.yelpcdn.com/bphoto/n-llcDFpxpwOiXEMGLi6WA/o.jpg\", \"is_closed\": false, \"url\": \"https://www.yelp.com/biz/fong-kee-clay-pot-union-city?adjust_creative=Eoyi_YSkAfM5aeQla0x-3A&utm_campaign=yelp_api_v3&utm_medium=api_v3_business_search&utm_source=Eoyi_YSkAfM5aeQla0x-3A\", \"review_count\": 5, \"categories\": [{\"alias\": \"cantonese\", \"title\": \"Cantonese\"}], \"rating\": 5.0, \"coordinates\": {\"latitude\": 37.58947, \"longitude\": -122.02283}, \"transactions\": [], \"location\": {\"address1\": \"1773 Decoto Rd\", \"address2\": null, \"address3\": \"\", \"city\": \"Union City\", \"zip_code\": \"94587\", \"country\": \"US\", \"state\": \"CA\", \"display_address\": [\"1773 Decoto Rd\", \"Union City, CA 94587\"]}, \"phone\": \"+15109529093\", \"display_phone\": \"(510) 952-9093\", \"distance\": 6484.68764409451}, {\"id\": \"purj1aiUzDi0I__qLOaNRg\", \"alias\": \"pan-fried-dumplings-newark\", \"name\": \"Pan Fried Dumplings\", \"image_url\": \"https://s3-media1.fl.yelpcdn.com/bphoto/3PuNE83LHi9RgTUeN3z3dQ/o.jpg\", \"is_closed\": false, \"url\": \"https://www.yelp.com/biz/pan-fried-dumplings-newark?adjust_creative=Eoyi_YSkAfM5aeQla0x-3A&utm_campaign=yelp_api_v3&utm_medium=api_v3_business_search&utm_source=Eoyi_YSkAfM5aeQla0x-3A\", \"review_count\": 467, \"categories\": [{\"alias\": \"dimsum\", \"title\": \"Dim Sum\"}, {\"alias\": \"noodles\", \"title\": \"Noodles\"}], \"rating\": 4.5, \"coordinates\": {\"latitude\": 37.548733, \"longitude\": -122.0493413}, \"transactions\": [\"restaurant_reservation\"], \"price\": \"$$\", \"location\": {\"address1\": \"6180 Jarvis Ave\", \"address2\": \"Ste U\", \"address3\": \"\", \"city\": \"Newark\", \"zip_code\": \"94560\", \"country\": \"US\", \"state\": \"CA\", \"display_address\": [\"6180 Jarvis Ave\", \"Ste U\", \"Newark, CA 94560\"]}, \"phone\": \"+15108941243\", \"display_phone\": \"(510) 894-1243\", \"distance\": 2608.3045065147344}, {\"id\": \"HUXRBAnq-zruEgE2RFw9sQ\", \"alias\": \"ambrose-butchery-fremont\", \"name\": \"Ambrose Butchery\", \"image_url\": \"https://s3-media2.fl.yelpcdn.com/bphoto/5xZxHG-EfJ6HyL1FNn6gUQ/o.jpg\", \"is_closed\": false, \"url\": \"https://www.yelp.com/biz/ambrose-butchery-fremont?adjust_creative=Eoyi_YSkAfM5aeQla0x-3A&utm_campaign=yelp_api_v3&utm_medium=api_v3_business_search&utm_source=Eoyi_YSkAfM5aeQla0x-3A\", \"review_count\": 201, \"categories\": [{\"alias\": \"newamerican\", \"title\": \"American (New)\"}, {\"alias\": \"butcher\", \"title\": \"Butcher\"}], \"rating\": 4.5, \"coordinates\": {\"latitude\": 37.5764345126062, \"longitude\": -121.97724}, \"transactions\": [\"delivery\"], \"price\": \"$$\", \"location\": {\"address1\": \"37683 Niles Blvd\", \"address2\": \"\", \"address3\": null, \"city\": \"Fremont\", \"zip_code\": \"94536\", \"country\": \"US\", \"state\": \"CA\", \"display_address\": [\"37683 Niles Blvd\", \"Fremont, CA 94536\"]}, \"phone\": \"+15105092677\", \"display_phone\": \"(510) 509-2677\", \"distance\": 9359.532829994985}, {\"id\": \"iKJ8LTC61-QsLTLi1Cte1w\", \"alias\": \"farmhouse-kitchen-thai-cuisine-menlo-park-2\", \"name\": \"Farmhouse Kitchen Thai Cuisine\", \"image_url\": \"https://s3-media3.fl.yelpcdn.com/bphoto/_vDlY-jousJqacyvEniesw/o.jpg\", \"is_closed\": false, \"url\": \"https://www.yelp.com/biz/farmhouse-kitchen-thai-cuisine-menlo-park-2?adjust_creative=Eoyi_YSkAfM5aeQla0x-3A&utm_campaign=yelp_api_v3&utm_medium=api_v3_business_search&utm_source=Eoyi_YSkAfM5aeQla0x-3A\", \"review_count\": 799, \"categories\": [{\"alias\": \"thai\", \"title\": \"Thai\"}, {\"alias\": \"cocktailbars\", \"title\": \"Cocktail Bars\"}, {\"alias\": \"beer_and_wine\", \"title\": \"Beer, Wine & Spirits\"}], \"rating\": 4.0, \"coordinates\": {\"latitude\": 37.45491677842326, \"longitude\": -122.18342154110819}, \"transactions\": [\"restaurant_reservation\"], \"price\": \"$$\", \"location\": {\"address1\": \"1165 Merrill St\", \"address2\": \"\", \"address3\": null, \"city\": \"Menlo Park\", \"zip_code\": \"94025\", \"country\": \"US\", \"state\": \"CA\", \"display_address\": [\"1165 Merrill St\", \"Menlo Park, CA 94025\"]}, \"phone\": \"+16506657935\", \"display_phone\": \"(650) 665-7935\", \"distance\": 14174.951534593589}], \"total\": 1100, \"region\": {\"center\": {\"longitude\": -122.07870483398438, \"latitude\": 37.55160980561088}}}\n"
     ]
    }
   ],
   "source": [
    "#other properties and methods of response object, a full list of available properties and methods can be found here\n",
    "#https://www.w3schools.com/python/ref_requests_response.asp\n",
    "print('cookies is ' + str(response.cookies) + '\\n')\n",
    "print('headers is ' + str(response.headers) + '\\n')\n",
    "print('response body is ' + str(response.text))"
   ]
  },
  {
   "cell_type": "code",
   "execution_count": 15,
   "metadata": {
    "colab": {
     "base_uri": "https://localhost:8080/",
     "height": 1000
    },
    "executionInfo": {
     "elapsed": 350,
     "status": "ok",
     "timestamp": 1602899168191,
     "user": {
      "displayName": "pp zz",
      "photoUrl": "",
      "userId": "14727403277373281171"
     },
     "user_tz": 420
    },
    "id": "jhrmGHhDLzYt",
    "outputId": "4b0a6255-40a4-4fc1-ea04-2648663c3f0d",
    "scrolled": true
   },
   "outputs": [
    {
     "data": {
      "text/plain": [
       "{'businesses': [{'id': 'G_qFJBwdgRqjjrapidHPwg',\n",
       "   'alias': 'fong-kee-clay-pot-union-city',\n",
       "   'name': 'Fong Kee Clay Pot',\n",
       "   'image_url': 'https://s3-media3.fl.yelpcdn.com/bphoto/n-llcDFpxpwOiXEMGLi6WA/o.jpg',\n",
       "   'is_closed': False,\n",
       "   'url': 'https://www.yelp.com/biz/fong-kee-clay-pot-union-city?adjust_creative=Eoyi_YSkAfM5aeQla0x-3A&utm_campaign=yelp_api_v3&utm_medium=api_v3_business_search&utm_source=Eoyi_YSkAfM5aeQla0x-3A',\n",
       "   'review_count': 5,\n",
       "   'categories': [{'alias': 'cantonese', 'title': 'Cantonese'}],\n",
       "   'rating': 5.0,\n",
       "   'coordinates': {'latitude': 37.58947, 'longitude': -122.02283},\n",
       "   'transactions': [],\n",
       "   'location': {'address1': '1773 Decoto Rd',\n",
       "    'address2': None,\n",
       "    'address3': '',\n",
       "    'city': 'Union City',\n",
       "    'zip_code': '94587',\n",
       "    'country': 'US',\n",
       "    'state': 'CA',\n",
       "    'display_address': ['1773 Decoto Rd', 'Union City, CA 94587']},\n",
       "   'phone': '+15109529093',\n",
       "   'display_phone': '(510) 952-9093',\n",
       "   'distance': 6484.68764409451},\n",
       "  {'id': 'purj1aiUzDi0I__qLOaNRg',\n",
       "   'alias': 'pan-fried-dumplings-newark',\n",
       "   'name': 'Pan Fried Dumplings',\n",
       "   'image_url': 'https://s3-media1.fl.yelpcdn.com/bphoto/3PuNE83LHi9RgTUeN3z3dQ/o.jpg',\n",
       "   'is_closed': False,\n",
       "   'url': 'https://www.yelp.com/biz/pan-fried-dumplings-newark?adjust_creative=Eoyi_YSkAfM5aeQla0x-3A&utm_campaign=yelp_api_v3&utm_medium=api_v3_business_search&utm_source=Eoyi_YSkAfM5aeQla0x-3A',\n",
       "   'review_count': 467,\n",
       "   'categories': [{'alias': 'dimsum', 'title': 'Dim Sum'},\n",
       "    {'alias': 'noodles', 'title': 'Noodles'}],\n",
       "   'rating': 4.5,\n",
       "   'coordinates': {'latitude': 37.548733, 'longitude': -122.0493413},\n",
       "   'transactions': ['restaurant_reservation'],\n",
       "   'price': '$$',\n",
       "   'location': {'address1': '6180 Jarvis Ave',\n",
       "    'address2': 'Ste U',\n",
       "    'address3': '',\n",
       "    'city': 'Newark',\n",
       "    'zip_code': '94560',\n",
       "    'country': 'US',\n",
       "    'state': 'CA',\n",
       "    'display_address': ['6180 Jarvis Ave', 'Ste U', 'Newark, CA 94560']},\n",
       "   'phone': '+15108941243',\n",
       "   'display_phone': '(510) 894-1243',\n",
       "   'distance': 2608.3045065147344},\n",
       "  {'id': 'HUXRBAnq-zruEgE2RFw9sQ',\n",
       "   'alias': 'ambrose-butchery-fremont',\n",
       "   'name': 'Ambrose Butchery',\n",
       "   'image_url': 'https://s3-media2.fl.yelpcdn.com/bphoto/5xZxHG-EfJ6HyL1FNn6gUQ/o.jpg',\n",
       "   'is_closed': False,\n",
       "   'url': 'https://www.yelp.com/biz/ambrose-butchery-fremont?adjust_creative=Eoyi_YSkAfM5aeQla0x-3A&utm_campaign=yelp_api_v3&utm_medium=api_v3_business_search&utm_source=Eoyi_YSkAfM5aeQla0x-3A',\n",
       "   'review_count': 201,\n",
       "   'categories': [{'alias': 'newamerican', 'title': 'American (New)'},\n",
       "    {'alias': 'butcher', 'title': 'Butcher'}],\n",
       "   'rating': 4.5,\n",
       "   'coordinates': {'latitude': 37.5764345126062, 'longitude': -121.97724},\n",
       "   'transactions': ['delivery'],\n",
       "   'price': '$$',\n",
       "   'location': {'address1': '37683 Niles Blvd',\n",
       "    'address2': '',\n",
       "    'address3': None,\n",
       "    'city': 'Fremont',\n",
       "    'zip_code': '94536',\n",
       "    'country': 'US',\n",
       "    'state': 'CA',\n",
       "    'display_address': ['37683 Niles Blvd', 'Fremont, CA 94536']},\n",
       "   'phone': '+15105092677',\n",
       "   'display_phone': '(510) 509-2677',\n",
       "   'distance': 9359.532829994985},\n",
       "  {'id': 'iKJ8LTC61-QsLTLi1Cte1w',\n",
       "   'alias': 'farmhouse-kitchen-thai-cuisine-menlo-park-2',\n",
       "   'name': 'Farmhouse Kitchen Thai Cuisine',\n",
       "   'image_url': 'https://s3-media3.fl.yelpcdn.com/bphoto/_vDlY-jousJqacyvEniesw/o.jpg',\n",
       "   'is_closed': False,\n",
       "   'url': 'https://www.yelp.com/biz/farmhouse-kitchen-thai-cuisine-menlo-park-2?adjust_creative=Eoyi_YSkAfM5aeQla0x-3A&utm_campaign=yelp_api_v3&utm_medium=api_v3_business_search&utm_source=Eoyi_YSkAfM5aeQla0x-3A',\n",
       "   'review_count': 799,\n",
       "   'categories': [{'alias': 'thai', 'title': 'Thai'},\n",
       "    {'alias': 'cocktailbars', 'title': 'Cocktail Bars'},\n",
       "    {'alias': 'beer_and_wine', 'title': 'Beer, Wine & Spirits'}],\n",
       "   'rating': 4.0,\n",
       "   'coordinates': {'latitude': 37.45491677842326,\n",
       "    'longitude': -122.18342154110819},\n",
       "   'transactions': ['restaurant_reservation'],\n",
       "   'price': '$$',\n",
       "   'location': {'address1': '1165 Merrill St',\n",
       "    'address2': '',\n",
       "    'address3': None,\n",
       "    'city': 'Menlo Park',\n",
       "    'zip_code': '94025',\n",
       "    'country': 'US',\n",
       "    'state': 'CA',\n",
       "    'display_address': ['1165 Merrill St', 'Menlo Park, CA 94025']},\n",
       "   'phone': '+16506657935',\n",
       "   'display_phone': '(650) 665-7935',\n",
       "   'distance': 14174.951534593589}],\n",
       " 'total': 1100,\n",
       " 'region': {'center': {'longitude': -122.07870483398438,\n",
       "   'latitude': 37.55160980561088}}}"
      ]
     },
     "execution_count": 15,
     "metadata": {},
     "output_type": "execute_result"
    }
   ],
   "source": [
    "#response.json() can automatically parse json text into python dict\n",
    "#or you can also use json package to parse the text\n",
    "response.json()"
   ]
  },
  {
   "cell_type": "code",
   "execution_count": 16,
   "metadata": {
    "colab": {
     "base_uri": "https://localhost:8080/",
     "height": 34
    },
    "executionInfo": {
     "elapsed": 439,
     "status": "ok",
     "timestamp": 1602899216390,
     "user": {
      "displayName": "pp zz",
      "photoUrl": "",
      "userId": "14727403277373281171"
     },
     "user_tz": 420
    },
    "id": "fCSrtBGoLzYx",
    "outputId": "53951287-33fb-4299-d8b0-e64857725726"
   },
   "outputs": [
    {
     "data": {
      "text/plain": [
       "dict"
      ]
     },
     "execution_count": 16,
     "metadata": {},
     "output_type": "execute_result"
    }
   ],
   "source": [
    "type(response.json())"
   ]
  },
  {
   "cell_type": "code",
   "execution_count": 18,
   "metadata": {
    "colab": {
     "base_uri": "https://localhost:8080/",
     "height": 516
    },
    "executionInfo": {
     "elapsed": 402,
     "status": "ok",
     "timestamp": 1602899341260,
     "user": {
      "displayName": "pp zz",
      "photoUrl": "",
      "userId": "14727403277373281171"
     },
     "user_tz": 420
    },
    "id": "BmRkalHxLzY0",
    "outputId": "4482d0ba-6c65-4f9b-f22b-5c43040b2355"
   },
   "outputs": [
    {
     "name": "stdout",
     "output_type": "stream",
     "text": [
      "dict_keys(['businesses', 'total', 'region'])\n"
     ]
    },
    {
     "data": {
      "text/html": [
       "<div>\n",
       "<style scoped>\n",
       "    .dataframe tbody tr th:only-of-type {\n",
       "        vertical-align: middle;\n",
       "    }\n",
       "\n",
       "    .dataframe tbody tr th {\n",
       "        vertical-align: top;\n",
       "    }\n",
       "\n",
       "    .dataframe thead th {\n",
       "        text-align: right;\n",
       "    }\n",
       "</style>\n",
       "<table border=\"1\" class=\"dataframe\">\n",
       "  <thead>\n",
       "    <tr style=\"text-align: right;\">\n",
       "      <th></th>\n",
       "      <th>id</th>\n",
       "      <th>alias</th>\n",
       "      <th>name</th>\n",
       "      <th>image_url</th>\n",
       "      <th>is_closed</th>\n",
       "      <th>url</th>\n",
       "      <th>review_count</th>\n",
       "      <th>categories</th>\n",
       "      <th>rating</th>\n",
       "      <th>coordinates</th>\n",
       "      <th>transactions</th>\n",
       "      <th>location</th>\n",
       "      <th>phone</th>\n",
       "      <th>display_phone</th>\n",
       "      <th>distance</th>\n",
       "      <th>price</th>\n",
       "    </tr>\n",
       "  </thead>\n",
       "  <tbody>\n",
       "    <tr>\n",
       "      <th>0</th>\n",
       "      <td>G_qFJBwdgRqjjrapidHPwg</td>\n",
       "      <td>fong-kee-clay-pot-union-city</td>\n",
       "      <td>Fong Kee Clay Pot</td>\n",
       "      <td>https://s3-media3.fl.yelpcdn.com/bphoto/n-llcD...</td>\n",
       "      <td>False</td>\n",
       "      <td>https://www.yelp.com/biz/fong-kee-clay-pot-uni...</td>\n",
       "      <td>5</td>\n",
       "      <td>[{'alias': 'cantonese', 'title': 'Cantonese'}]</td>\n",
       "      <td>5.0</td>\n",
       "      <td>{'latitude': 37.58947, 'longitude': -122.02283}</td>\n",
       "      <td>[]</td>\n",
       "      <td>{'address1': '1773 Decoto Rd', 'address2': Non...</td>\n",
       "      <td>+15109529093</td>\n",
       "      <td>(510) 952-9093</td>\n",
       "      <td>6484.687644</td>\n",
       "      <td>NaN</td>\n",
       "    </tr>\n",
       "    <tr>\n",
       "      <th>1</th>\n",
       "      <td>purj1aiUzDi0I__qLOaNRg</td>\n",
       "      <td>pan-fried-dumplings-newark</td>\n",
       "      <td>Pan Fried Dumplings</td>\n",
       "      <td>https://s3-media1.fl.yelpcdn.com/bphoto/3PuNE8...</td>\n",
       "      <td>False</td>\n",
       "      <td>https://www.yelp.com/biz/pan-fried-dumplings-n...</td>\n",
       "      <td>467</td>\n",
       "      <td>[{'alias': 'dimsum', 'title': 'Dim Sum'}, {'al...</td>\n",
       "      <td>4.5</td>\n",
       "      <td>{'latitude': 37.548733, 'longitude': -122.0493...</td>\n",
       "      <td>[restaurant_reservation]</td>\n",
       "      <td>{'address1': '6180 Jarvis Ave', 'address2': 'S...</td>\n",
       "      <td>+15108941243</td>\n",
       "      <td>(510) 894-1243</td>\n",
       "      <td>2608.304507</td>\n",
       "      <td>$$</td>\n",
       "    </tr>\n",
       "    <tr>\n",
       "      <th>2</th>\n",
       "      <td>HUXRBAnq-zruEgE2RFw9sQ</td>\n",
       "      <td>ambrose-butchery-fremont</td>\n",
       "      <td>Ambrose Butchery</td>\n",
       "      <td>https://s3-media2.fl.yelpcdn.com/bphoto/5xZxHG...</td>\n",
       "      <td>False</td>\n",
       "      <td>https://www.yelp.com/biz/ambrose-butchery-frem...</td>\n",
       "      <td>201</td>\n",
       "      <td>[{'alias': 'newamerican', 'title': 'American (...</td>\n",
       "      <td>4.5</td>\n",
       "      <td>{'latitude': 37.5764345126062, 'longitude': -1...</td>\n",
       "      <td>[delivery]</td>\n",
       "      <td>{'address1': '37683 Niles Blvd', 'address2': '...</td>\n",
       "      <td>+15105092677</td>\n",
       "      <td>(510) 509-2677</td>\n",
       "      <td>9359.532830</td>\n",
       "      <td>$$</td>\n",
       "    </tr>\n",
       "    <tr>\n",
       "      <th>3</th>\n",
       "      <td>iKJ8LTC61-QsLTLi1Cte1w</td>\n",
       "      <td>farmhouse-kitchen-thai-cuisine-menlo-park-2</td>\n",
       "      <td>Farmhouse Kitchen Thai Cuisine</td>\n",
       "      <td>https://s3-media3.fl.yelpcdn.com/bphoto/_vDlY-...</td>\n",
       "      <td>False</td>\n",
       "      <td>https://www.yelp.com/biz/farmhouse-kitchen-tha...</td>\n",
       "      <td>799</td>\n",
       "      <td>[{'alias': 'thai', 'title': 'Thai'}, {'alias':...</td>\n",
       "      <td>4.0</td>\n",
       "      <td>{'latitude': 37.45491677842326, 'longitude': -...</td>\n",
       "      <td>[restaurant_reservation]</td>\n",
       "      <td>{'address1': '1165 Merrill St', 'address2': ''...</td>\n",
       "      <td>+16506657935</td>\n",
       "      <td>(650) 665-7935</td>\n",
       "      <td>14174.951535</td>\n",
       "      <td>$$</td>\n",
       "    </tr>\n",
       "  </tbody>\n",
       "</table>\n",
       "</div>"
      ],
      "text/plain": [
       "                       id                                        alias  \\\n",
       "0  G_qFJBwdgRqjjrapidHPwg                 fong-kee-clay-pot-union-city   \n",
       "1  purj1aiUzDi0I__qLOaNRg                   pan-fried-dumplings-newark   \n",
       "2  HUXRBAnq-zruEgE2RFw9sQ                     ambrose-butchery-fremont   \n",
       "3  iKJ8LTC61-QsLTLi1Cte1w  farmhouse-kitchen-thai-cuisine-menlo-park-2   \n",
       "\n",
       "                             name  \\\n",
       "0               Fong Kee Clay Pot   \n",
       "1             Pan Fried Dumplings   \n",
       "2                Ambrose Butchery   \n",
       "3  Farmhouse Kitchen Thai Cuisine   \n",
       "\n",
       "                                           image_url  is_closed  \\\n",
       "0  https://s3-media3.fl.yelpcdn.com/bphoto/n-llcD...      False   \n",
       "1  https://s3-media1.fl.yelpcdn.com/bphoto/3PuNE8...      False   \n",
       "2  https://s3-media2.fl.yelpcdn.com/bphoto/5xZxHG...      False   \n",
       "3  https://s3-media3.fl.yelpcdn.com/bphoto/_vDlY-...      False   \n",
       "\n",
       "                                                 url  review_count  \\\n",
       "0  https://www.yelp.com/biz/fong-kee-clay-pot-uni...             5   \n",
       "1  https://www.yelp.com/biz/pan-fried-dumplings-n...           467   \n",
       "2  https://www.yelp.com/biz/ambrose-butchery-frem...           201   \n",
       "3  https://www.yelp.com/biz/farmhouse-kitchen-tha...           799   \n",
       "\n",
       "                                          categories  rating  \\\n",
       "0     [{'alias': 'cantonese', 'title': 'Cantonese'}]     5.0   \n",
       "1  [{'alias': 'dimsum', 'title': 'Dim Sum'}, {'al...     4.5   \n",
       "2  [{'alias': 'newamerican', 'title': 'American (...     4.5   \n",
       "3  [{'alias': 'thai', 'title': 'Thai'}, {'alias':...     4.0   \n",
       "\n",
       "                                         coordinates  \\\n",
       "0    {'latitude': 37.58947, 'longitude': -122.02283}   \n",
       "1  {'latitude': 37.548733, 'longitude': -122.0493...   \n",
       "2  {'latitude': 37.5764345126062, 'longitude': -1...   \n",
       "3  {'latitude': 37.45491677842326, 'longitude': -...   \n",
       "\n",
       "               transactions  \\\n",
       "0                        []   \n",
       "1  [restaurant_reservation]   \n",
       "2                [delivery]   \n",
       "3  [restaurant_reservation]   \n",
       "\n",
       "                                            location         phone  \\\n",
       "0  {'address1': '1773 Decoto Rd', 'address2': Non...  +15109529093   \n",
       "1  {'address1': '6180 Jarvis Ave', 'address2': 'S...  +15108941243   \n",
       "2  {'address1': '37683 Niles Blvd', 'address2': '...  +15105092677   \n",
       "3  {'address1': '1165 Merrill St', 'address2': ''...  +16506657935   \n",
       "\n",
       "    display_phone      distance price  \n",
       "0  (510) 952-9093   6484.687644   NaN  \n",
       "1  (510) 894-1243   2608.304507    $$  \n",
       "2  (510) 509-2677   9359.532830    $$  \n",
       "3  (650) 665-7935  14174.951535    $$  "
      ]
     },
     "execution_count": 18,
     "metadata": {},
     "output_type": "execute_result"
    }
   ],
   "source": [
    "#let's take a look at what information you can get\n",
    "print(response.json().keys())\n",
    "#And you can easily load it into a dataframe\n",
    "import pandas as pd\n",
    "businesses = response.json()['businesses']\n",
    "df = pd.DataFrame(businesses)\n",
    "df"
   ]
  },
  {
   "cell_type": "code",
   "execution_count": 21,
   "metadata": {},
   "outputs": [],
   "source": [
    "# save as csv file\n",
    "df.to_csv('yelp_resturants', index=False)"
   ]
  },
  {
   "cell_type": "markdown",
   "metadata": {
    "id": "-kLaPPKuLzY2"
   },
   "source": [
    "## Sometimes you need to send data to server, let's take a look at json\n",
    "\n",
    "JSON stands for JavaScript Object Notation, it's a string representing serielized object/data, contains only data and can easily parse between all kinds of popular data format, e.g. dict, dataframe, csv file, and can be used across all languages.\n",
    "\n",
    "You will encounter JSON objects and JSON Arrays. e.g.\n",
    "{\n",
    "\"name\":\"John\",\n",
    "\"age\":30,\n",
    "\"cars\":[ \"Ford\", \"BMW\", \"Fiat\" ]\n",
    "}\n",
    "\n",
    "Conversion table between JSON and Python types:\n",
    "\n",
    "| JSON | Python |\n",
    "| --- | --- |\n",
    "| object | dict |\n",
    "| array | list |\n",
    "| string | str |\n",
    "| number(int/real) | int/float |\n",
    "| true/false | True/False |"
   ]
  },
  {
   "cell_type": "code",
   "execution_count": 19,
   "metadata": {
    "colab": {
     "base_uri": "https://localhost:8080/",
     "height": 68
    },
    "executionInfo": {
     "elapsed": 401,
     "status": "ok",
     "timestamp": 1602899448803,
     "user": {
      "displayName": "pp zz",
      "photoUrl": "",
      "userId": "14727403277373281171"
     },
     "user_tz": 420
    },
    "id": "1HHHklKxLzY3",
    "outputId": "76462f30-8b17-45e6-f580-1a5eecd31879"
   },
   "outputs": [
    {
     "name": "stdout",
     "output_type": "stream",
     "text": [
      "type of cars is <class 'dict'>\n",
      "type of cars_json is <class 'str'>\n",
      "type of cars_from_json is <class 'dict'>\n"
     ]
    }
   ],
   "source": [
    "import json\n",
    "\n",
    "cars = {\n",
    "    \"name\":\"John\",\n",
    "    \"age\":\"30\",\n",
    "    \"cars\":[\"Ford\",\"BMW\",\"Fiat\"]\n",
    "}\n",
    "\n",
    "print('type of cars is ' + str(type(cars)))\n",
    "\n",
    "cars_json = json.dumps(cars)\n",
    "print('type of cars_json is ' + str(type(cars_json)))\n",
    "\n",
    "cars_from_json = json.loads(cars_json)\n",
    "print('type of cars_from_json is ' + str(type(cars_from_json)))"
   ]
  },
  {
   "cell_type": "code",
   "execution_count": 20,
   "metadata": {
    "colab": {
     "base_uri": "https://localhost:8080/",
     "height": 142
    },
    "executionInfo": {
     "elapsed": 414,
     "status": "ok",
     "timestamp": 1602899897342,
     "user": {
      "displayName": "pp zz",
      "photoUrl": "",
      "userId": "14727403277373281171"
     },
     "user_tz": 420
    },
    "id": "He6pys0oLzY6",
    "outputId": "863f2baf-31d9-4d7a-90ad-707210848bfe"
   },
   "outputs": [
    {
     "data": {
      "text/html": [
       "<div>\n",
       "<style scoped>\n",
       "    .dataframe tbody tr th:only-of-type {\n",
       "        vertical-align: middle;\n",
       "    }\n",
       "\n",
       "    .dataframe tbody tr th {\n",
       "        vertical-align: top;\n",
       "    }\n",
       "\n",
       "    .dataframe thead th {\n",
       "        text-align: right;\n",
       "    }\n",
       "</style>\n",
       "<table border=\"1\" class=\"dataframe\">\n",
       "  <thead>\n",
       "    <tr style=\"text-align: right;\">\n",
       "      <th></th>\n",
       "      <th>name</th>\n",
       "      <th>age</th>\n",
       "      <th>cars</th>\n",
       "    </tr>\n",
       "  </thead>\n",
       "  <tbody>\n",
       "    <tr>\n",
       "      <th>0</th>\n",
       "      <td>John</td>\n",
       "      <td>30</td>\n",
       "      <td>Ford</td>\n",
       "    </tr>\n",
       "    <tr>\n",
       "      <th>1</th>\n",
       "      <td>John</td>\n",
       "      <td>30</td>\n",
       "      <td>BMW</td>\n",
       "    </tr>\n",
       "    <tr>\n",
       "      <th>2</th>\n",
       "      <td>John</td>\n",
       "      <td>30</td>\n",
       "      <td>Fiat</td>\n",
       "    </tr>\n",
       "  </tbody>\n",
       "</table>\n",
       "</div>"
      ],
      "text/plain": [
       "   name  age  cars\n",
       "0  John   30  Ford\n",
       "1  John   30   BMW\n",
       "2  John   30  Fiat"
      ]
     },
     "execution_count": 20,
     "metadata": {},
     "output_type": "execute_result"
    }
   ],
   "source": [
    "# you can easily load json string into dataframe also\n",
    "\n",
    "df_car = pd.read_json(cars_json, orient='columns')\n",
    "df_car.head()"
   ]
  },
  {
   "cell_type": "code",
   "execution_count": null,
   "metadata": {
    "id": "wMDFvpQ86Nc6"
   },
   "outputs": [],
   "source": [
    "## Homework: use github api to create a new repo for yourself"
   ]
  },
  {
   "cell_type": "code",
   "execution_count": null,
   "metadata": {
    "id": "Lg8r05vdBCND"
   },
   "outputs": [],
   "source": []
  }
 ],
 "metadata": {
  "colab": {
   "name": "REST API and data pulling.ipynb",
   "provenance": []
  },
  "kernelspec": {
   "display_name": "Python 3 (ipykernel)",
   "language": "python",
   "name": "python3"
  },
  "language_info": {
   "codemirror_mode": {
    "name": "ipython",
    "version": 3
   },
   "file_extension": ".py",
   "mimetype": "text/x-python",
   "name": "python",
   "nbconvert_exporter": "python",
   "pygments_lexer": "ipython3",
   "version": "3.9.7"
  }
 },
 "nbformat": 4,
 "nbformat_minor": 1
}
